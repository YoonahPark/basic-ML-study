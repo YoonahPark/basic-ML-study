{
 "cells": [
  {
   "cell_type": "code",
   "execution_count": 17,
   "id": "e1849c5b",
   "metadata": {},
   "outputs": [],
   "source": [
    "import numpy as np\n",
    "import matplotlib.pyplot as plt\n",
    "from sklearn.model_selection import train_test_split\n",
    "# from sklearn.neighbors import KNeighborsRegressor"
   ]
  },
  {
   "cell_type": "code",
   "execution_count": 192,
   "id": "dbde74e2",
   "metadata": {},
   "outputs": [],
   "source": [
    "class KNeighborsRegressor:\n",
    "    def __init__(self, n_neighbors=5, weights='uniform', algorithm='auto', leaf_size=30, p=2, metric='minkowski', metric_params=None, n_jobs=None):\n",
    "        self.n_neighbors = n_neighbors\n",
    "        self.weights = weights\n",
    "        self.algorithm = algorithm\n",
    "        self.leaf_size = leaf_size\n",
    "        self.p = p\n",
    "    \n",
    "    def fit(self, a, b):\n",
    "        a = np.array(a)\n",
    "        b = np.array(b)\n",
    "        if(a[:, 0].size < self.n_neighbors):\n",
    "            raise Exception(\"train data array size smaller than n_neighbors! (n_neighbors=\"+str(self.n_neighbors)+\")\")\n",
    "        if(a[:, 0].size != b.size):\n",
    "            raise Exception(\"train input array size different with train target array size! (input array size : \"+str(a.size)+\" target array size : \"+str(b.size)+\")\")\n",
    "        self.input_data = a\n",
    "        self.target_data = b\n",
    "        \n",
    "    def getDistances(self, data):\n",
    "        distances_xy = self.input_data - data\n",
    "        if self.p==1:\n",
    "            return np.abs(distances_xy[:, 0])\n",
    "        if self.p==2:\n",
    "            return np.sqrt(np.power(distances_xy[:, 0], 2))\n",
    "    \n",
    "    def getWeights(self, data):\n",
    "        if self.weights=='uniform':\n",
    "            return np.ones_like(data)\n",
    "        if self.weights=='distance':\n",
    "            return np.ones_like(data) / self.getDistances(data)\n",
    "    \n",
    "    def predict(self, data):\n",
    "        data = np.array(data).reshape(-1, 1)\n",
    "        prediction_list = []\n",
    "        for i in data:\n",
    "            distances, indexes = self.kneighbors(i)\n",
    "            prediction_score = (self.target_data[indexes].reshape(-1, 1) * self.getWeights(self.input_data)[indexes]).sum() \n",
    "            prediction_score /= self.getWeights(self.input_data)[indexes].sum()\n",
    "            prediction_list.append(prediction_score)\n",
    "        return np.array(prediction_list)\n",
    "    \n",
    "    def kneighbors(self, data):\n",
    "        distances_arr = self.getDistances(data)\n",
    "        index_rank = distances_arr.argsort()\n",
    "        np.flip(index_rank)\n",
    "        index_arr = index_rank[:self.n_neighbors]\n",
    "        return distances_arr[index_arr], index_arr\n",
    "    \n",
    "    def score(self, test_input, test_target):\n",
    "        test_result = self.predict(test_input)\n",
    "        sst = np.power(test_target - np.ones_like(test_target)*np.average(test_target), 2).sum()\n",
    "        ssr = np.power(test_result - test_target, 2).sum()\n",
    "        return 1-ssr/sst\n",
    "    \n",
    "    "
   ]
  },
  {
   "cell_type": "code",
   "execution_count": 193,
   "id": "77056a2f",
   "metadata": {},
   "outputs": [],
   "source": [
    "perch_length = np.array([8.4, 13.7, 15.0, 16.2, 17.4, 18.0, 18.7, 19.0, 19.6, 20.0, 21.0,\n",
    "       21.0, 21.0, 21.3, 22.0, 22.0, 22.0, 22.0, 22.0, 22.5, 22.5, 22.7,\n",
    "       23.0, 23.5, 24.0, 24.0, 24.6, 25.0, 25.6, 26.5, 27.3, 27.5, 27.5,\n",
    "       27.5, 28.0, 28.7, 30.0, 32.8, 34.5, 35.0, 36.5, 36.0, 37.0, 37.0,\n",
    "       39.0, 39.0, 39.0, 40.0, 40.0, 40.0, 40.0, 42.0, 43.0, 43.0, 43.5,\n",
    "       44.0])\n",
    "perch_weight = np.array([5.9, 32.0, 40.0, 51.5, 70.0, 100.0, 78.0, 80.0, 85.0, 85.0, 110.0,\n",
    "       115.0, 125.0, 130.0, 120.0, 120.0, 130.0, 135.0, 110.0, 130.0,\n",
    "       150.0, 145.0, 150.0, 170.0, 225.0, 145.0, 188.0, 180.0, 197.0,\n",
    "       218.0, 300.0, 260.0, 265.0, 250.0, 250.0, 300.0, 320.0, 514.0,\n",
    "       556.0, 840.0, 685.0, 700.0, 700.0, 690.0, 900.0, 650.0, 820.0,\n",
    "       850.0, 900.0, 1015.0, 820.0, 1100.0, 1000.0, 1100.0, 1000.0,\n",
    "       1000.0])"
   ]
  },
  {
   "cell_type": "code",
   "execution_count": 194,
   "id": "ba4d1a4a",
   "metadata": {},
   "outputs": [],
   "source": [
    "train_input, test_input, train_target, test_target = train_test_split(perch_length, perch_weight, random_state = 42)\n",
    "\n",
    "# sklearn.model_selection.train_test_split(*arrays, test_size=None, train_size=None, random_state=None, shuffle=True, stratify=None)"
   ]
  },
  {
   "cell_type": "code",
   "execution_count": 195,
   "id": "65fab3ff",
   "metadata": {},
   "outputs": [],
   "source": [
    "train_input = train_input.reshape(-1, 1)\n",
    "test_input = test_input.reshape(-1, 1)\n",
    "        \n",
    "# 배열의 크기를 자동으로 지정하는 기능도 제공한다. 크기를 -1로 지정하면 나머지 원소 개수로 모두 채워진다. 이를 사용하면 배열의 원소의 개수를 정확히 모르더라도 크기를 쉽게 변경할 수 있다.  "
   ]
  },
  {
   "cell_type": "code",
   "execution_count": 196,
   "id": "97f0597c",
   "metadata": {},
   "outputs": [
    {
     "name": "stdout",
     "output_type": "stream",
     "text": [
      "0.9928827044235266\n"
     ]
    }
   ],
   "source": [
    "knr = KNeighborsRegressor()\n",
    "knr.fit(train_input, train_target)\n",
    "\n",
    "print(knr.score(test_input, test_target)) # 0.992809406101064\n",
    "\n",
    "# 결정계수 R"
   ]
  },
  {
   "cell_type": "code",
   "execution_count": 197,
   "id": "0c9881b7",
   "metadata": {},
   "outputs": [
    {
     "name": "stdout",
     "output_type": "stream",
     "text": [
      "0.9709175620626495\n"
     ]
    }
   ],
   "source": [
    "print(knr.score(train_input, train_target))\n",
    "\n",
    "# Overfitting : 훈련 셋의 점수보다 테스트 셋의 점수가 지나치게 낮다"
   ]
  },
  {
   "cell_type": "code",
   "execution_count": 198,
   "id": "2a2a88fc",
   "metadata": {},
   "outputs": [
    {
     "name": "stdout",
     "output_type": "stream",
     "text": [
      "0.9805927924609602\n",
      "0.9747223784694176\n"
     ]
    }
   ],
   "source": [
    "knr.n_neighbors = 3\n",
    "knr.fit(train_input, train_target)\n",
    "print(knr.score(train_input, train_target)) # 0.9804899950518966\n",
    "print(knr.score(test_input, test_target)) # 0.9746459963987609"
   ]
  },
  {
   "cell_type": "code",
   "execution_count": 199,
   "id": "1be0e61e",
   "metadata": {},
   "outputs": [
    {
     "name": "stdout",
     "output_type": "stream",
     "text": [
      "[1033.33333333]\n"
     ]
    }
   ],
   "source": [
    "print(knr.predict([[100]]))"
   ]
  },
  {
   "cell_type": "code",
   "execution_count": 200,
   "id": "cb24e034",
   "metadata": {},
   "outputs": [
    {
     "data": {
      "image/png": "[encoded data removed]",
      "text/plain": [
       "<Figure size 432x288 with 1 Axes>"
      ]
     },
     "metadata": {
      "needs_background": "light"
     },
     "output_type": "display_data"
    }
   ],
   "source": [
    "plt.scatter(train_input, train_target)\n",
    "plt.scatter(test_input, test_target)\n",
    "plt.scatter(test_input, knr.predict(test_input))\n",
    "plt.xlabel(\"length\")\n",
    "plt.ylabel(\"weight\")\n",
    "plt.show()"
   ]
  },
  {
   "cell_type": "code",
   "execution_count": null,
   "id": "597c4cda",
   "metadata": {},
   "outputs": [],
   "source": []
  }
 ],
 "metadata": {
  "kernelspec": {
   "display_name": "study_env",
   "language": "python",
   "name": "study_env"
  },
  "language_info": {
   "codemirror_mode": {
    "name": "ipython",
    "version": 3
   },
   "file_extension": ".py",
   "mimetype": "text/x-python",
   "name": "python",
   "nbconvert_exporter": "python",
   "pygments_lexer": "ipython3",
   "version": "3.7.13"
  }
 },
 "nbformat": 4,
 "nbformat_minor": 5
}
