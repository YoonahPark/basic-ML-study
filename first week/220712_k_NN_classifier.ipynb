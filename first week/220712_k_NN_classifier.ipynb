{
 "cells": [
  {
   "cell_type": "code",
   "execution_count": 1,
   "id": "47981064",
   "metadata": {},
   "outputs": [],
   "source": [
    "bream_length = [25.4, 26.3, 26.5, 29.0, 29.0, 29.7, 29.7, 30.0, 30.0, 30.7, 31.0, 31.0, 31.5, 32.0, 32.0, 32.0, 33.0, 33.0, 33.5, 33.5, 34.0, 34.0, 34.5, 35.0, 35.0, 35.0, 35.0, 36.0, 36.0, 37.0, 38.5, 38.5, 39.5, 41.0, 41.0] \n",
    "bream_weight = [242.0, 290.0, 340.0, 363.0, 430.0, 450.0, 500.0, 390.0, 450.0, 500.0, 475.0, 500.0, 500.0, 340.0, 600.0, 600.0, 700.0, 700.0, 610.0, 650.0, 575.0, 685.0, 620.0, 680.0, 700.0, 725.0, 720.0, 714.0, 850.0, 1000.0, 920.0, 955.0, 925.0, 975.0, 950.0]\n",
    "\n",
    "smelt_length = [9.8, 10.5, 10.6, 11.0, 11.2, 11.3, 11.8, 11.8, 12.0, 12.2, 12.4, 13.0, 14.3, 15.0] \n",
    "smelt_weight = [6.7, 7.5, 7.0, 9.7, 9.8, 8.7, 10.0, 9.9, 9.8, 12.2, 13.4, 12.2, 19.7, 19.9]"
   ]
  },
  {
   "cell_type": "code",
   "execution_count": 79,
   "id": "df73ccad",
   "metadata": {},
   "outputs": [
    {
     "data": {
      "text/plain": [
       "'\\nimport matplotlib.pyplot as plt\\nimport numpy as np\\nfrom sklearn.neighbors import KNeighborsClassifier\\n'"
      ]
     },
     "execution_count": 79,
     "metadata": {},
     "output_type": "execute_result"
    }
   ],
   "source": [
    "'''\n",
    "import matplotlib.pyplot as plt\n",
    "import numpy as np\n",
    "from sklearn.neighbors import KNeighborsClassifier\n",
    "'''"
   ]
  },
  {
   "cell_type": "code",
   "execution_count": 111,
   "id": "3455800f",
   "metadata": {},
   "outputs": [],
   "source": [
    "import matplotlib.pyplot as plt\n",
    "import numpy as np\n",
    "\n",
    "class KNeighborsClassifier:\n",
    "    def __init__(self, n_neighbors=5):\n",
    "        self.n_neighbors = n_neighbors\n",
    "        \n",
    "    def fit(self, a, b):\n",
    "        a = np.array(a)\n",
    "        b = np.array(b)\n",
    "        if(a[:, 0].size < self.n_neighbors):\n",
    "            raise Exception(\"train data array size smaller than n_neighbors! (n_neighbors=\"+str(self.n_neighbors)+\")\")\n",
    "        if(a[:, 0].size != b.size):\n",
    "            raise Exception(\"train input array size different with train target array size! (input array size : \"+str(a.size)+\" target array size : \"+str(b.size)+\")\")\n",
    "        self.input_data = a\n",
    "        self.target_data = b\n",
    "        \n",
    "    def predict(self, data):\n",
    "        distances_list = []\n",
    "        for i in data:\n",
    "            distances, indexes = self.kneighbors(i)\n",
    "            prediction_score = self.target_data[indexes].sum()\n",
    "            if(prediction_score > self.n_neighbors/2): \n",
    "                distances_list.append(1)\n",
    "            else:\n",
    "                distances_list.append(0)\n",
    "        return np.array(distances_list)\n",
    "        \n",
    "    def kneighbors(self, data):\n",
    "        distances_xy = self.input_data - data\n",
    "        distances_arr = np.sqrt(np.power(distances_xy[:, 0], 2)+np.power(distances_xy[:, 1], 2))\n",
    "        index_rank = distances_arr.argsort()\n",
    "        np.flip(index_rank)\n",
    "        index_arr = index_rank[:self.n_neighbors]\n",
    "        return distances_arr[index_arr], index_arr\n",
    "    \n",
    "    def score(self, test_input, test_target):\n",
    "        test_result = self.predict(test_input)\n",
    "        score_arr = test_target==test_result\n",
    "        score = np.ones_like(score_arr)[score_arr].sum() / score_arr.size\n",
    "        return score"
   ]
  },
  {
   "cell_type": "code",
   "execution_count": 112,
   "id": "88dd044c",
   "metadata": {},
   "outputs": [
    {
     "data": {
      "image/png": "[encoded data removed]",
      "text/plain": [
       "<Figure size 432x288 with 1 Axes>"
      ]
     },
     "metadata": {
      "needs_background": "light"
     },
     "output_type": "display_data"
    }
   ],
   "source": [
    "plt.scatter(bream_length, bream_weight)\n",
    "plt.scatter(smelt_length, smelt_weight)\n",
    "plt.xlabel(\"length\")\n",
    "plt.ylabel(\"weight\")\n",
    "plt.show()"
   ]
  },
  {
   "cell_type": "code",
   "execution_count": 113,
   "id": "6977b5b3",
   "metadata": {},
   "outputs": [],
   "source": [
    "length = bream_length + smelt_length\n",
    "weight = bream_weight + smelt_weight"
   ]
  },
  {
   "cell_type": "code",
   "execution_count": 114,
   "id": "60527651",
   "metadata": {},
   "outputs": [],
   "source": [
    "fish_data = [[l, w] for l, w in zip(length, weight)]"
   ]
  },
  {
   "cell_type": "code",
   "execution_count": 115,
   "id": "393f8e3a",
   "metadata": {},
   "outputs": [],
   "source": [
    "fish_target = [1]*35 + [0]*14"
   ]
  },
  {
   "cell_type": "code",
   "execution_count": 116,
   "id": "a59a6048",
   "metadata": {},
   "outputs": [],
   "source": [
    "kn = KNeighborsClassifier()  #default value of k = 5"
   ]
  },
  {
   "cell_type": "code",
   "execution_count": 117,
   "id": "4d953519",
   "metadata": {},
   "outputs": [
    {
     "name": "stdout",
     "output_type": "stream",
     "text": [
      "1.0\n"
     ]
    }
   ],
   "source": [
    "kn.fit(fish_data, fish_target)           #fit method : 기준 학습\n",
    "print(kn.score(fish_data, fish_target))  #score method : 훈련이 잘 되었는지 평가 (정확도)"
   ]
  },
  {
   "cell_type": "code",
   "execution_count": 118,
   "id": "2f70edf6",
   "metadata": {},
   "outputs": [],
   "source": [
    "kn = KNeighborsClassifier(n_neighbors=49) #k = 49"
   ]
  },
  {
   "cell_type": "code",
   "execution_count": 119,
   "id": "519aad11",
   "metadata": {},
   "outputs": [
    {
     "name": "stdout",
     "output_type": "stream",
     "text": [
      "0.7142857142857143\n"
     ]
    }
   ],
   "source": [
    "kn.fit(fish_data, fish_target)           #fit method : 기준 학습\n",
    "print(kn.score(fish_data, fish_target))  #score method : 훈련이 잘 되었는지 평가 \n",
    "#1이 나오지 않는 것은 k=49일 때 어떤 데이터를 넣어도 도미가 나오기 때문"
   ]
  },
  {
   "cell_type": "markdown",
   "id": "b1830e60",
   "metadata": {},
   "source": [
    "실습!!! \n",
    "위 코드에서는 훈련시킬 때 사용한 데이터를 그대로 테스트했기 때문에 1이 나온 것.\n",
    "즉, 훈련 데이터와 테스트 데이터가 똑같았다는 이야기.\n",
    "\n",
    "훈련 데이터와 테스트 데이터를 달리하여 실습해 보자.\n",
    "샘플이 골고루 섞이도록 numpy.random을 이용할 것이다.\n",
    "* 샘플링 편향 : 샘플이 한쪽으로 치우친 경우"
   ]
  },
  {
   "cell_type": "code",
   "execution_count": 120,
   "id": "eb96fc9a",
   "metadata": {},
   "outputs": [],
   "source": [
    "input_arr = np.array(fish_data)\n",
    "target_arr = np.array(fish_target)"
   ]
  },
  {
   "cell_type": "code",
   "execution_count": 121,
   "id": "e023b928",
   "metadata": {},
   "outputs": [],
   "source": [
    "np.random.seed(42)\n",
    "index = np.arange(49) # [0, 1, 2, ... , 48]\n",
    "np.random.shuffle(index)\n",
    "\n",
    "train_input = input_arr[index[:35]]\n",
    "train_target = target_arr[index[:35]]"
   ]
  },
  {
   "cell_type": "code",
   "execution_count": 122,
   "id": "0f899711",
   "metadata": {},
   "outputs": [],
   "source": [
    "test_input = input_arr[index[35:]]\n",
    "test_target = target_arr[index[35:]]"
   ]
  },
  {
   "cell_type": "code",
   "execution_count": 123,
   "id": "6f02ee8d",
   "metadata": {},
   "outputs": [
    {
     "data": {
      "image/png": "[encoded data removed]",
      "text/plain": [
       "<Figure size 432x288 with 1 Axes>"
      ]
     },
     "metadata": {
      "needs_background": "light"
     },
     "output_type": "display_data"
    }
   ],
   "source": [
    "plt.scatter(test_input[:, 0], test_input[:, 1], c=\"red\")\n",
    "plt.scatter(train_input[:, 0], train_input[:, 1], c=\"blue\")\n",
    "plt.xlabel(\"length\")\n",
    "plt.ylabel(\"weight\")\n",
    "plt.show()"
   ]
  },
  {
   "cell_type": "code",
   "execution_count": 124,
   "id": "9bacdcaf",
   "metadata": {},
   "outputs": [
    {
     "name": "stdout",
     "output_type": "stream",
     "text": [
      "1.0\n",
      "[0 0 1 0 1 1 1 0 1 1 0 1 1 0]\n",
      "[0 0 1 0 1 1 1 0 1 1 0 1 1 0]\n"
     ]
    }
   ],
   "source": [
    "kn = KNeighborsClassifier()\n",
    "kn.fit(train_input, train_target)\n",
    "print(kn.score(test_input, test_target))\n",
    "\n",
    "print(kn.predict(test_input))\n",
    "print(test_target)"
   ]
  },
  {
   "cell_type": "code",
   "execution_count": 125,
   "id": "1e8c8464",
   "metadata": {},
   "outputs": [
    {
     "name": "stdout",
     "output_type": "stream",
     "text": [
      "[0]\n"
     ]
    }
   ],
   "source": [
    "print(kn.predict([[25.0, 150.0]]))"
   ]
  },
  {
   "cell_type": "code",
   "execution_count": 126,
   "id": "b127fd33",
   "metadata": {},
   "outputs": [
    {
     "data": {
      "image/png": "[encoded data removed]",
      "text/plain": [
       "<Figure size 432x288 with 1 Axes>"
      ]
     },
     "metadata": {
      "needs_background": "light"
     },
     "output_type": "display_data"
    }
   ],
   "source": [
    "filter_arr = train_target==1\n",
    "plt.scatter(train_input[filter_arr][:, 0], train_input[filter_arr][:, 1], c=\"red\")\n",
    "filter_arr = train_target==0\n",
    "plt.scatter(train_input[filter_arr][:, 0], train_input[filter_arr][:, 1], c=\"blue\")\n",
    "plt.scatter(25.0, 150.0, c=\"blue\", marker='^')\n",
    "\n",
    "plt.xlabel(\"length\")\n",
    "plt.ylabel(\"weight\")\n",
    "plt.show()"
   ]
  },
  {
   "cell_type": "code",
   "execution_count": 127,
   "id": "8f70012c",
   "metadata": {},
   "outputs": [
    {
     "name": "stdout",
     "output_type": "stream",
     "text": [
      "1\n",
      "4\n"
     ]
    },
    {
     "data": {
      "image/png": "[encoded data removed]",
      "text/plain": [
       "<Figure size 432x288 with 1 Axes>"
      ]
     },
     "metadata": {
      "needs_background": "light"
     },
     "output_type": "display_data"
    }
   ],
   "source": [
    "filter_arr = train_target==1\n",
    "plt.scatter(train_input[filter_arr][:, 0], train_input[filter_arr][:, 1], c=\"red\")\n",
    "filter_arr = train_target==0\n",
    "plt.scatter(train_input[filter_arr][:, 0], train_input[filter_arr][:, 1], c=\"blue\")\n",
    "plt.scatter(25.0, 150.0, c=\"blue\", marker='^')\n",
    "\n",
    "distances, indexes = kn.kneighbors([[25, 150]])\n",
    "\n",
    "filter_arr = train_target==1\n",
    "filter_arr = filter_arr[indexes]\n",
    "print(train_input[indexes, 0][filter_arr].size)\n",
    "plt.scatter(train_input[indexes, 0][filter_arr], train_input[indexes, 1][filter_arr], c=\"pink\", marker='D')\n",
    "\n",
    "filter_arr = train_target==0\n",
    "filter_arr = filter_arr[indexes]\n",
    "print(train_input[indexes, 0][filter_arr].size)\n",
    "plt.scatter(train_input[indexes, 0][filter_arr], train_input[indexes, 1][filter_arr], c=\"skyblue\", marker='D')\n",
    "\n",
    "plt.xlabel(\"length\")\n",
    "plt.ylabel(\"weight\")\n",
    "plt.show()"
   ]
  },
  {
   "cell_type": "code",
   "execution_count": 128,
   "id": "809cf3b0",
   "metadata": {},
   "outputs": [
    {
     "name": "stdout",
     "output_type": "stream",
     "text": [
      "[ 92.00086956 130.73859415 137.17988191 138.32150953 138.39320793]\n"
     ]
    }
   ],
   "source": [
    "print(distances)"
   ]
  },
  {
   "cell_type": "code",
   "execution_count": 129,
   "id": "8bddc085",
   "metadata": {},
   "outputs": [
    {
     "name": "stdout",
     "output_type": "stream",
     "text": [
      "1\n",
      "4\n"
     ]
    },
    {
     "data": {
      "image/png": "[encoded data removed]",
      "text/plain": [
       "<Figure size 432x288 with 1 Axes>"
      ]
     },
     "metadata": {
      "needs_background": "light"
     },
     "output_type": "display_data"
    }
   ],
   "source": [
    "filter_arr = train_target==1\n",
    "plt.scatter(train_input[filter_arr][:, 0], train_input[filter_arr][:, 1], c=\"red\")\n",
    "filter_arr = train_target==0\n",
    "plt.scatter(train_input[filter_arr][:, 0], train_input[filter_arr][:, 1], c=\"blue\")\n",
    "plt.scatter(25.0, 150.0, c=\"blue\", marker='^')\n",
    "\n",
    "distances, indexes = kn.kneighbors([[25, 150]])\n",
    "\n",
    "filter_arr = train_target==1\n",
    "filter_arr = filter_arr[indexes]\n",
    "print(train_input[indexes, 0][filter_arr].size)\n",
    "plt.scatter(train_input[indexes, 0][filter_arr], train_input[indexes, 1][filter_arr], c=\"pink\", marker='D')\n",
    "\n",
    "filter_arr = train_target==0\n",
    "filter_arr = filter_arr[indexes]\n",
    "print(train_input[indexes, 0][filter_arr].size)\n",
    "plt.scatter(train_input[indexes, 0][filter_arr], train_input[indexes, 1][filter_arr], c=\"skyblue\", marker='D')\n",
    "\n",
    "plt.xlim(0, 1000)\n",
    "\n",
    "plt.xlabel(\"length\")\n",
    "plt.ylabel(\"weight\")\n",
    "plt.show()"
   ]
  },
  {
   "cell_type": "markdown",
   "id": "c2a85a5f",
   "metadata": {},
   "source": [
    "z-점수 표준화! Xnew = (X-mean(X)) / StdDev(X)"
   ]
  },
  {
   "cell_type": "code",
   "execution_count": 130,
   "id": "a37988ff",
   "metadata": {},
   "outputs": [],
   "source": [
    "mean = np.mean(train_input, axis = 0) # axis=0이면 열 따라, axis=1이면 행 따라\n",
    "std = np.std(train_input, axis = 0)\n",
    "\n",
    "train_scaled = (train_input-mean) / std # 브로드캐스팅 이용"
   ]
  },
  {
   "cell_type": "code",
   "execution_count": 131,
   "id": "e3342a12",
   "metadata": {},
   "outputs": [],
   "source": [
    "kn.fit(train_scaled, train_target)"
   ]
  },
  {
   "cell_type": "code",
   "execution_count": 132,
   "id": "66ff86f4",
   "metadata": {},
   "outputs": [
    {
     "name": "stdout",
     "output_type": "stream",
     "text": [
      "[1]\n"
     ]
    }
   ],
   "source": [
    "new = ([25, 150]-mean) / std\n",
    "print(kn.predict([new]))\n",
    "distances, indexes = kn.kneighbors([new])"
   ]
  },
  {
   "cell_type": "code",
   "execution_count": 133,
   "id": "e193ceb7",
   "metadata": {},
   "outputs": [
    {
     "name": "stdout",
     "output_type": "stream",
     "text": [
      "5\n",
      "0\n"
     ]
    },
    {
     "data": {
      "image/png": "[encoded data removed]",
      "text/plain": [
       "<Figure size 432x288 with 1 Axes>"
      ]
     },
     "metadata": {
      "needs_background": "light"
     },
     "output_type": "display_data"
    }
   ],
   "source": [
    "filter_arr = train_target==1\n",
    "plt.scatter(train_scaled[filter_arr][:, 0], train_scaled[filter_arr][:, 1], c=\"red\")\n",
    "filter_arr = train_target==0\n",
    "plt.scatter(train_scaled[filter_arr][:, 0], train_scaled[filter_arr][:, 1], c=\"blue\")\n",
    "plt.scatter(new[0], new[1], c=\"red\", marker='^')\n",
    "\n",
    "filter_arr = train_target==1\n",
    "filter_arr = filter_arr[indexes]\n",
    "print(train_scaled[indexes, 0][filter_arr].size)\n",
    "plt.scatter(train_scaled[indexes, 0][filter_arr], train_scaled[indexes, 1][filter_arr], c=\"pink\", marker='D')\n",
    "\n",
    "filter_arr = train_target==0\n",
    "filter_arr = filter_arr[indexes]\n",
    "print(train_scaled[indexes, 0][filter_arr].size)\n",
    "plt.scatter(train_scaled[indexes, 0][filter_arr], train_scaled[indexes, 1][filter_arr], c=\"skyblue\", marker='D')\n",
    "\n",
    "plt.xlabel(\"length\")\n",
    "plt.ylabel(\"weight\")\n",
    "plt.show()"
   ]
  },
  {
   "cell_type": "code",
   "execution_count": null,
   "id": "ed055639",
   "metadata": {},
   "outputs": [],
   "source": []
  }
 ],
 "metadata": {
  "kernelspec": {
   "display_name": "study_env",
   "language": "python",
   "name": "study_env"
  },
  "language_info": {
   "codemirror_mode": {
    "name": "ipython",
    "version": 3
   },
   "file_extension": ".py",
   "mimetype": "text/x-python",
   "name": "python",
   "nbconvert_exporter": "python",
   "pygments_lexer": "ipython3",
   "version": "3.7.13"
  }
 },
 "nbformat": 4,
 "nbformat_minor": 5
}
